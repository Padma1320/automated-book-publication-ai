{
  "cells": [
    {
      "cell_type": "code",
      "execution_count": 14,
      "metadata": {
        "id": "IcBAeoC81RqI"
      },
      "outputs": [],
      "source": [
        "!pip install -q transformers accelerate\n"
      ]
    },
    {
      "cell_type": "code",
      "execution_count": 15,
      "metadata": {
        "colab": {
          "base_uri": "https://localhost:8080/",
          "height": 107
        },
        "id": "HphyN2Kd1dBE",
        "outputId": "edb25054-30b8-4e68-d837-3f0668ca29e6"
      },
      "outputs": [
        {
          "output_type": "stream",
          "name": "stdout",
          "text": [
            " Please upload your `chapter_1_raw.txt` file:\n"
          ]
        },
        {
          "output_type": "display_data",
          "data": {
            "text/plain": [
              "<IPython.core.display.HTML object>"
            ],
            "text/html": [
              "\n",
              "     <input type=\"file\" id=\"files-b7867f4f-0765-4cab-b8ef-255934f3f4dd\" name=\"files[]\" multiple disabled\n",
              "        style=\"border:none\" />\n",
              "     <output id=\"result-b7867f4f-0765-4cab-b8ef-255934f3f4dd\">\n",
              "      Upload widget is only available when the cell has been executed in the\n",
              "      current browser session. Please rerun this cell to enable.\n",
              "      </output>\n",
              "      <script>// Copyright 2017 Google LLC\n",
              "//\n",
              "// Licensed under the Apache License, Version 2.0 (the \"License\");\n",
              "// you may not use this file except in compliance with the License.\n",
              "// You may obtain a copy of the License at\n",
              "//\n",
              "//      http://www.apache.org/licenses/LICENSE-2.0\n",
              "//\n",
              "// Unless required by applicable law or agreed to in writing, software\n",
              "// distributed under the License is distributed on an \"AS IS\" BASIS,\n",
              "// WITHOUT WARRANTIES OR CONDITIONS OF ANY KIND, either express or implied.\n",
              "// See the License for the specific language governing permissions and\n",
              "// limitations under the License.\n",
              "\n",
              "/**\n",
              " * @fileoverview Helpers for google.colab Python module.\n",
              " */\n",
              "(function(scope) {\n",
              "function span(text, styleAttributes = {}) {\n",
              "  const element = document.createElement('span');\n",
              "  element.textContent = text;\n",
              "  for (const key of Object.keys(styleAttributes)) {\n",
              "    element.style[key] = styleAttributes[key];\n",
              "  }\n",
              "  return element;\n",
              "}\n",
              "\n",
              "// Max number of bytes which will be uploaded at a time.\n",
              "const MAX_PAYLOAD_SIZE = 100 * 1024;\n",
              "\n",
              "function _uploadFiles(inputId, outputId) {\n",
              "  const steps = uploadFilesStep(inputId, outputId);\n",
              "  const outputElement = document.getElementById(outputId);\n",
              "  // Cache steps on the outputElement to make it available for the next call\n",
              "  // to uploadFilesContinue from Python.\n",
              "  outputElement.steps = steps;\n",
              "\n",
              "  return _uploadFilesContinue(outputId);\n",
              "}\n",
              "\n",
              "// This is roughly an async generator (not supported in the browser yet),\n",
              "// where there are multiple asynchronous steps and the Python side is going\n",
              "// to poll for completion of each step.\n",
              "// This uses a Promise to block the python side on completion of each step,\n",
              "// then passes the result of the previous step as the input to the next step.\n",
              "function _uploadFilesContinue(outputId) {\n",
              "  const outputElement = document.getElementById(outputId);\n",
              "  const steps = outputElement.steps;\n",
              "\n",
              "  const next = steps.next(outputElement.lastPromiseValue);\n",
              "  return Promise.resolve(next.value.promise).then((value) => {\n",
              "    // Cache the last promise value to make it available to the next\n",
              "    // step of the generator.\n",
              "    outputElement.lastPromiseValue = value;\n",
              "    return next.value.response;\n",
              "  });\n",
              "}\n",
              "\n",
              "/**\n",
              " * Generator function which is called between each async step of the upload\n",
              " * process.\n",
              " * @param {string} inputId Element ID of the input file picker element.\n",
              " * @param {string} outputId Element ID of the output display.\n",
              " * @return {!Iterable<!Object>} Iterable of next steps.\n",
              " */\n",
              "function* uploadFilesStep(inputId, outputId) {\n",
              "  const inputElement = document.getElementById(inputId);\n",
              "  inputElement.disabled = false;\n",
              "\n",
              "  const outputElement = document.getElementById(outputId);\n",
              "  outputElement.innerHTML = '';\n",
              "\n",
              "  const pickedPromise = new Promise((resolve) => {\n",
              "    inputElement.addEventListener('change', (e) => {\n",
              "      resolve(e.target.files);\n",
              "    });\n",
              "  });\n",
              "\n",
              "  const cancel = document.createElement('button');\n",
              "  inputElement.parentElement.appendChild(cancel);\n",
              "  cancel.textContent = 'Cancel upload';\n",
              "  const cancelPromise = new Promise((resolve) => {\n",
              "    cancel.onclick = () => {\n",
              "      resolve(null);\n",
              "    };\n",
              "  });\n",
              "\n",
              "  // Wait for the user to pick the files.\n",
              "  const files = yield {\n",
              "    promise: Promise.race([pickedPromise, cancelPromise]),\n",
              "    response: {\n",
              "      action: 'starting',\n",
              "    }\n",
              "  };\n",
              "\n",
              "  cancel.remove();\n",
              "\n",
              "  // Disable the input element since further picks are not allowed.\n",
              "  inputElement.disabled = true;\n",
              "\n",
              "  if (!files) {\n",
              "    return {\n",
              "      response: {\n",
              "        action: 'complete',\n",
              "      }\n",
              "    };\n",
              "  }\n",
              "\n",
              "  for (const file of files) {\n",
              "    const li = document.createElement('li');\n",
              "    li.append(span(file.name, {fontWeight: 'bold'}));\n",
              "    li.append(span(\n",
              "        `(${file.type || 'n/a'}) - ${file.size} bytes, ` +\n",
              "        `last modified: ${\n",
              "            file.lastModifiedDate ? file.lastModifiedDate.toLocaleDateString() :\n",
              "                                    'n/a'} - `));\n",
              "    const percent = span('0% done');\n",
              "    li.appendChild(percent);\n",
              "\n",
              "    outputElement.appendChild(li);\n",
              "\n",
              "    const fileDataPromise = new Promise((resolve) => {\n",
              "      const reader = new FileReader();\n",
              "      reader.onload = (e) => {\n",
              "        resolve(e.target.result);\n",
              "      };\n",
              "      reader.readAsArrayBuffer(file);\n",
              "    });\n",
              "    // Wait for the data to be ready.\n",
              "    let fileData = yield {\n",
              "      promise: fileDataPromise,\n",
              "      response: {\n",
              "        action: 'continue',\n",
              "      }\n",
              "    };\n",
              "\n",
              "    // Use a chunked sending to avoid message size limits. See b/62115660.\n",
              "    let position = 0;\n",
              "    do {\n",
              "      const length = Math.min(fileData.byteLength - position, MAX_PAYLOAD_SIZE);\n",
              "      const chunk = new Uint8Array(fileData, position, length);\n",
              "      position += length;\n",
              "\n",
              "      const base64 = btoa(String.fromCharCode.apply(null, chunk));\n",
              "      yield {\n",
              "        response: {\n",
              "          action: 'append',\n",
              "          file: file.name,\n",
              "          data: base64,\n",
              "        },\n",
              "      };\n",
              "\n",
              "      let percentDone = fileData.byteLength === 0 ?\n",
              "          100 :\n",
              "          Math.round((position / fileData.byteLength) * 100);\n",
              "      percent.textContent = `${percentDone}% done`;\n",
              "\n",
              "    } while (position < fileData.byteLength);\n",
              "  }\n",
              "\n",
              "  // All done.\n",
              "  yield {\n",
              "    response: {\n",
              "      action: 'complete',\n",
              "    }\n",
              "  };\n",
              "}\n",
              "\n",
              "scope.google = scope.google || {};\n",
              "scope.google.colab = scope.google.colab || {};\n",
              "scope.google.colab._files = {\n",
              "  _uploadFiles,\n",
              "  _uploadFilesContinue,\n",
              "};\n",
              "})(self);\n",
              "</script> "
            ]
          },
          "metadata": {}
        },
        {
          "output_type": "stream",
          "name": "stdout",
          "text": [
            "Saving chapter_1_raw.txt to chapter_1_raw (8).txt\n",
            " File uploaded and loaded successfully.\n"
          ]
        }
      ],
      "source": [
        "from google.colab import files\n",
        "\n",
        "print(\" Please upload your `chapter_1_raw.txt` file:\")\n",
        "uploaded = files.upload()\n",
        "\n",
        "filename = list(uploaded.keys())[0]\n",
        "\n",
        "with open(filename, \"r\", encoding=\"utf-8\") as f:\n",
        "    original_text = f.read()\n",
        "\n",
        "print(\" File uploaded and loaded successfully.\")\n"
      ]
    },
    {
      "cell_type": "code",
      "execution_count": null,
      "metadata": {
        "colab": {
          "background_save": true,
          "base_uri": "https://localhost:8080/"
        },
        "id": "P6Bc_JFK15aH",
        "outputId": "4bf43ad2-11d8-4a33-9619-221f7a518bd3"
      },
      "outputs": [
        {
          "name": "stderr",
          "output_type": "stream",
          "text": [
            "Device set to use cpu\n",
            "Truncation was not explicitly activated but `max_length` is provided a specific value, please use `truncation=True` to explicitly truncate examples to max length. Defaulting to 'longest_first' truncation strategy. If you encode pairs of sequences (GLUE-style) with the tokenizer you can select this strategy more precisely by providing a specific strategy to `truncation`.\n",
            "Setting `pad_token_id` to `eos_token_id`:50256 for open-end generation.\n",
            "Both `max_new_tokens` (=256) and `max_length`(=1024) seem to have been set. `max_new_tokens` will take precedence. Please refer to the documentation for more information. (https://huggingface.co/docs/transformers/main/en/main_classes/text_generation)\n"
          ]
        },
        {
          "name": "stdout",
          "output_type": "stream",
          "text": [
            "Rewritten Chapter Preview:\n",
            "\n",
            " Rewrite the following passage in fluent, modern English:\n",
            "\n",
            "\"The Gates of Morning\"\n",
            "\n",
            "CHAPTER I\n",
            "\n",
            "THE CANOE BUILDER\n",
            "\n",
            "DICK standing on a ledge of coral cast his eyes to the South.\n",
            "\n",
            "Behind him the breakers of the outer sea thundered and the spindrift scattered on the wind; before him stretched an ocean calm as a lake, infinite, blue, and flown about by the fishing gulls—the lagoon of Karolin.\n",
            "\n",
            "Clipped by its forty-mile ring of coral this great pond was a sea in itself, a sea of storm in heavy winds, a lake of azure, in light airs—and it was his—he who had landed here only yesterday.\n",
            "\n",
            "Women, children, youths, all the tribe to be seen busy along the beach in the blazing sun, fishing with nets, playing their games or working on the paraka patches, all were his people. His were the canoes drawn up on the sand and his the empty houses where the war canoes had once rested on their rollers.\n",
            "\n",
            "Then as he cast his eyes from the lagoon to the canoe houses his brow contracted, and, turning his back to th\n"
          ]
        }
      ],
      "source": [
        "from transformers import pipeline\n",
        "\n",
        "# Load the local AI model from HuggingFace\n",
        "generator = pipeline(\"text-generation\", model=\"EleutherAI/gpt-neo-1.3B\")\n",
        "\n",
        "# Prompt to rewrite the content\n",
        "prompt = f\"Rewrite the following passage in fluent, modern English:\\n\\n{original_text}\"\n",
        "\n",
        "# Generate the rewritten output\n",
        "output = generator(prompt, max_length=1024, do_sample=True, temperature=0.7)\n",
        "\n",
        "# Extract the rewritten text\n",
        "rewritten = output[0]['generated_text']\n",
        "print(\"Rewritten Chapter Preview:\\n\\n\", rewritten[:1000])\n"
      ]
    },
    {
      "cell_type": "code",
      "execution_count": 16,
      "metadata": {
        "id": "W_T_cZJ52fuP",
        "colab": {
          "base_uri": "https://localhost:8080/",
          "height": 17
        },
        "outputId": "64ec16d5-fb29-4a92-fbb9-bbb9ff9dea40"
      },
      "outputs": [
        {
          "output_type": "display_data",
          "data": {
            "text/plain": [
              "<IPython.core.display.Javascript object>"
            ],
            "application/javascript": [
              "\n",
              "    async function download(id, filename, size) {\n",
              "      if (!google.colab.kernel.accessAllowed) {\n",
              "        return;\n",
              "      }\n",
              "      const div = document.createElement('div');\n",
              "      const label = document.createElement('label');\n",
              "      label.textContent = `Downloading \"${filename}\": `;\n",
              "      div.appendChild(label);\n",
              "      const progress = document.createElement('progress');\n",
              "      progress.max = size;\n",
              "      div.appendChild(progress);\n",
              "      document.body.appendChild(div);\n",
              "\n",
              "      const buffers = [];\n",
              "      let downloaded = 0;\n",
              "\n",
              "      const channel = await google.colab.kernel.comms.open(id);\n",
              "      // Send a message to notify the kernel that we're ready.\n",
              "      channel.send({})\n",
              "\n",
              "      for await (const message of channel.messages) {\n",
              "        // Send a message to notify the kernel that we're ready.\n",
              "        channel.send({})\n",
              "        if (message.buffers) {\n",
              "          for (const buffer of message.buffers) {\n",
              "            buffers.push(buffer);\n",
              "            downloaded += buffer.byteLength;\n",
              "            progress.value = downloaded;\n",
              "          }\n",
              "        }\n",
              "      }\n",
              "      const blob = new Blob(buffers, {type: 'application/binary'});\n",
              "      const a = document.createElement('a');\n",
              "      a.href = window.URL.createObjectURL(blob);\n",
              "      a.download = filename;\n",
              "      div.appendChild(a);\n",
              "      a.click();\n",
              "      div.remove();\n",
              "    }\n",
              "  "
            ]
          },
          "metadata": {}
        },
        {
          "output_type": "display_data",
          "data": {
            "text/plain": [
              "<IPython.core.display.Javascript object>"
            ],
            "application/javascript": [
              "download(\"download_7304edb6-e094-4867-96c6-59cad72dbce4\", \"chapter_1_spun.txt\", 10386)"
            ]
          },
          "metadata": {}
        }
      ],
      "source": [
        "# Save to .txt file\n",
        "with open(\"chapter_1_spun.txt\", \"w\", encoding=\"utf-8\") as f:\n",
        "    f.write(rewritten)\n",
        "\n",
        "# Download it\n",
        "files.download(\"chapter_1_spun.txt\")\n"
      ]
    },
    {
      "cell_type": "code",
      "execution_count": 17,
      "metadata": {
        "colab": {
          "base_uri": "https://localhost:8080/"
        },
        "id": "XIukKpnd3sl6",
        "outputId": "b038b0e8-af0e-4687-b965-dc122ebdf24b"
      },
      "outputs": [
        {
          "name": "stdout",
          "output_type": "stream",
          "text": [
            "AI Rewritten Draft:\n",
            "\n",
            " Rewrite the following passage in fluent, modern English:\n",
            "\n",
            "\"The Gates of Morning\"\n",
            "\n",
            "CHAPTER I\n",
            "\n",
            "THE CANOE BUILDER\n",
            "\n",
            "DICK standing on a ledge of coral cast his eyes to the South.\n",
            "\n",
            "Behind him the breakers of the outer sea thundered and the spindrift scattered on the wind; before him stretched an ocean calm as a lake, infinite, blue, and flown about by the fishing gulls—the lagoon of Karolin.\n",
            "\n",
            "Clipped by its forty-mile ring of coral this great pond was a sea in itself, a sea of storm in heavy winds, a lake of azure, in light airs—and it was his—he who had landed here only yesterday.\n",
            "\n",
            "Women, children, youths, all the tribe to be seen busy along the beach in the blazing sun, fishing with nets, playing their games or working on the paraka patches, all were his people. His were the canoes drawn up on the sand and his the empty houses where the war canoes had once rested on their rollers.\n",
            "\n",
            "Then as he cast his eyes from the lagoon to the canoe houses his brow contracted, and, turning his back to th\n",
            "Enter any manual correction you'd like to apply:\n",
            "thank u\n"
          ]
        }
      ],
      "source": [
        "# Show rewritten output and accept feedback\n",
        "print(\"AI Rewritten Draft:\\n\\n\", rewritten[:1000])\n",
        "\n",
        "# Allow user to enter a small edit (simulate editor review)\n",
        "editor_feedback = input(\"Enter any manual correction you'd like to apply:\\n\")\n",
        "\n",
        "# Apply a small update\n",
        "final_version = rewritten + \"\\n\\n[Editor Note]: \" + editor_feedback\n"
      ]
    },
    {
      "cell_type": "code",
      "execution_count": 18,
      "metadata": {
        "colab": {
          "base_uri": "https://localhost:8080/",
          "height": 17
        },
        "id": "Rbn-Ilh833Qo",
        "outputId": "27c93849-b9e5-46e5-c37e-49bb5ebae514"
      },
      "outputs": [
        {
          "output_type": "display_data",
          "data": {
            "text/plain": [
              "<IPython.core.display.Javascript object>"
            ],
            "application/javascript": [
              "\n",
              "    async function download(id, filename, size) {\n",
              "      if (!google.colab.kernel.accessAllowed) {\n",
              "        return;\n",
              "      }\n",
              "      const div = document.createElement('div');\n",
              "      const label = document.createElement('label');\n",
              "      label.textContent = `Downloading \"${filename}\": `;\n",
              "      div.appendChild(label);\n",
              "      const progress = document.createElement('progress');\n",
              "      progress.max = size;\n",
              "      div.appendChild(progress);\n",
              "      document.body.appendChild(div);\n",
              "\n",
              "      const buffers = [];\n",
              "      let downloaded = 0;\n",
              "\n",
              "      const channel = await google.colab.kernel.comms.open(id);\n",
              "      // Send a message to notify the kernel that we're ready.\n",
              "      channel.send({})\n",
              "\n",
              "      for await (const message of channel.messages) {\n",
              "        // Send a message to notify the kernel that we're ready.\n",
              "        channel.send({})\n",
              "        if (message.buffers) {\n",
              "          for (const buffer of message.buffers) {\n",
              "            buffers.push(buffer);\n",
              "            downloaded += buffer.byteLength;\n",
              "            progress.value = downloaded;\n",
              "          }\n",
              "        }\n",
              "      }\n",
              "      const blob = new Blob(buffers, {type: 'application/binary'});\n",
              "      const a = document.createElement('a');\n",
              "      a.href = window.URL.createObjectURL(blob);\n",
              "      a.download = filename;\n",
              "      div.appendChild(a);\n",
              "      a.click();\n",
              "      div.remove();\n",
              "    }\n",
              "  "
            ]
          },
          "metadata": {}
        },
        {
          "output_type": "display_data",
          "data": {
            "text/plain": [
              "<IPython.core.display.Javascript object>"
            ],
            "application/javascript": [
              "download(\"download_319e9073-4cd8-490b-bbfc-426f3893d8d6\", \"chapter_1_v1.txt\", 10410)"
            ]
          },
          "metadata": {}
        }
      ],
      "source": [
        "# Save versioned copy\n",
        "version = \"v1\"  # You can later change this to v2, final, etc.\n",
        "versioned_filename = f\"chapter_1_{version}.txt\"\n",
        "\n",
        "with open(versioned_filename, \"w\", encoding=\"utf-8\") as f:\n",
        "    f.write(final_version)\n",
        "\n",
        "files.download(versioned_filename)\n"
      ]
    },
    {
      "cell_type": "code",
      "execution_count": 19,
      "metadata": {
        "colab": {
          "base_uri": "https://localhost:8080/"
        },
        "id": "EHYHqfkF4fB4",
        "outputId": "b9efd032-ddac-47be-a30e-84f93b13c202"
      },
      "outputs": [
        {
          "output_type": "stream",
          "name": "stdout",
          "text": [
            "Requirement already satisfied: chromadb in /usr/local/lib/python3.11/dist-packages (1.0.12)\n",
            "Requirement already satisfied: build>=1.0.3 in /usr/local/lib/python3.11/dist-packages (from chromadb) (1.2.2.post1)\n",
            "Requirement already satisfied: pydantic>=1.9 in /usr/local/lib/python3.11/dist-packages (from chromadb) (2.11.5)\n",
            "Requirement already satisfied: fastapi==0.115.9 in /usr/local/lib/python3.11/dist-packages (from chromadb) (0.115.9)\n",
            "Requirement already satisfied: uvicorn>=0.18.3 in /usr/local/lib/python3.11/dist-packages (from uvicorn[standard]>=0.18.3->chromadb) (0.34.3)\n",
            "Requirement already satisfied: numpy>=1.22.5 in /usr/local/lib/python3.11/dist-packages (from chromadb) (2.0.2)\n",
            "Requirement already satisfied: posthog>=2.4.0 in /usr/local/lib/python3.11/dist-packages (from chromadb) (5.0.0)\n",
            "Requirement already satisfied: typing-extensions>=4.5.0 in /usr/local/lib/python3.11/dist-packages (from chromadb) (4.14.0)\n",
            "Requirement already satisfied: onnxruntime>=1.14.1 in /usr/local/lib/python3.11/dist-packages (from chromadb) (1.22.0)\n",
            "Requirement already satisfied: opentelemetry-api>=1.2.0 in /usr/local/lib/python3.11/dist-packages (from chromadb) (1.34.1)\n",
            "Requirement already satisfied: opentelemetry-exporter-otlp-proto-grpc>=1.2.0 in /usr/local/lib/python3.11/dist-packages (from chromadb) (1.34.1)\n",
            "Requirement already satisfied: opentelemetry-instrumentation-fastapi>=0.41b0 in /usr/local/lib/python3.11/dist-packages (from chromadb) (0.55b1)\n",
            "Requirement already satisfied: opentelemetry-sdk>=1.2.0 in /usr/local/lib/python3.11/dist-packages (from chromadb) (1.34.1)\n",
            "Requirement already satisfied: tokenizers>=0.13.2 in /usr/local/lib/python3.11/dist-packages (from chromadb) (0.21.1)\n",
            "Requirement already satisfied: pypika>=0.48.9 in /usr/local/lib/python3.11/dist-packages (from chromadb) (0.48.9)\n",
            "Requirement already satisfied: tqdm>=4.65.0 in /usr/local/lib/python3.11/dist-packages (from chromadb) (4.67.1)\n",
            "Requirement already satisfied: overrides>=7.3.1 in /usr/local/lib/python3.11/dist-packages (from chromadb) (7.7.0)\n",
            "Requirement already satisfied: importlib-resources in /usr/local/lib/python3.11/dist-packages (from chromadb) (6.5.2)\n",
            "Requirement already satisfied: grpcio>=1.58.0 in /usr/local/lib/python3.11/dist-packages (from chromadb) (1.73.0)\n",
            "Requirement already satisfied: bcrypt>=4.0.1 in /usr/local/lib/python3.11/dist-packages (from chromadb) (4.3.0)\n",
            "Requirement already satisfied: typer>=0.9.0 in /usr/local/lib/python3.11/dist-packages (from chromadb) (0.16.0)\n",
            "Requirement already satisfied: kubernetes>=28.1.0 in /usr/local/lib/python3.11/dist-packages (from chromadb) (33.1.0)\n",
            "Requirement already satisfied: tenacity>=8.2.3 in /usr/local/lib/python3.11/dist-packages (from chromadb) (9.1.2)\n",
            "Requirement already satisfied: pyyaml>=6.0.0 in /usr/local/lib/python3.11/dist-packages (from chromadb) (6.0.2)\n",
            "Requirement already satisfied: mmh3>=4.0.1 in /usr/local/lib/python3.11/dist-packages (from chromadb) (5.1.0)\n",
            "Requirement already satisfied: orjson>=3.9.12 in /usr/local/lib/python3.11/dist-packages (from chromadb) (3.10.18)\n",
            "Requirement already satisfied: httpx>=0.27.0 in /usr/local/lib/python3.11/dist-packages (from chromadb) (0.28.1)\n",
            "Requirement already satisfied: rich>=10.11.0 in /usr/local/lib/python3.11/dist-packages (from chromadb) (13.9.4)\n",
            "Requirement already satisfied: jsonschema>=4.19.0 in /usr/local/lib/python3.11/dist-packages (from chromadb) (4.24.0)\n",
            "Requirement already satisfied: starlette<0.46.0,>=0.40.0 in /usr/local/lib/python3.11/dist-packages (from fastapi==0.115.9->chromadb) (0.45.3)\n",
            "Requirement already satisfied: packaging>=19.1 in /usr/local/lib/python3.11/dist-packages (from build>=1.0.3->chromadb) (24.2)\n",
            "Requirement already satisfied: pyproject_hooks in /usr/local/lib/python3.11/dist-packages (from build>=1.0.3->chromadb) (1.2.0)\n",
            "Requirement already satisfied: anyio in /usr/local/lib/python3.11/dist-packages (from httpx>=0.27.0->chromadb) (4.9.0)\n",
            "Requirement already satisfied: certifi in /usr/local/lib/python3.11/dist-packages (from httpx>=0.27.0->chromadb) (2025.4.26)\n",
            "Requirement already satisfied: httpcore==1.* in /usr/local/lib/python3.11/dist-packages (from httpx>=0.27.0->chromadb) (1.0.9)\n",
            "Requirement already satisfied: idna in /usr/local/lib/python3.11/dist-packages (from httpx>=0.27.0->chromadb) (3.10)\n",
            "Requirement already satisfied: h11>=0.16 in /usr/local/lib/python3.11/dist-packages (from httpcore==1.*->httpx>=0.27.0->chromadb) (0.16.0)\n",
            "Requirement already satisfied: attrs>=22.2.0 in /usr/local/lib/python3.11/dist-packages (from jsonschema>=4.19.0->chromadb) (25.3.0)\n",
            "Requirement already satisfied: jsonschema-specifications>=2023.03.6 in /usr/local/lib/python3.11/dist-packages (from jsonschema>=4.19.0->chromadb) (2025.4.1)\n",
            "Requirement already satisfied: referencing>=0.28.4 in /usr/local/lib/python3.11/dist-packages (from jsonschema>=4.19.0->chromadb) (0.36.2)\n",
            "Requirement already satisfied: rpds-py>=0.7.1 in /usr/local/lib/python3.11/dist-packages (from jsonschema>=4.19.0->chromadb) (0.25.1)\n",
            "Requirement already satisfied: six>=1.9.0 in /usr/local/lib/python3.11/dist-packages (from kubernetes>=28.1.0->chromadb) (1.17.0)\n",
            "Requirement already satisfied: python-dateutil>=2.5.3 in /usr/local/lib/python3.11/dist-packages (from kubernetes>=28.1.0->chromadb) (2.9.0.post0)\n",
            "Requirement already satisfied: google-auth>=1.0.1 in /usr/local/lib/python3.11/dist-packages (from kubernetes>=28.1.0->chromadb) (2.38.0)\n",
            "Requirement already satisfied: websocket-client!=0.40.0,!=0.41.*,!=0.42.*,>=0.32.0 in /usr/local/lib/python3.11/dist-packages (from kubernetes>=28.1.0->chromadb) (1.8.0)\n",
            "Requirement already satisfied: requests in /usr/local/lib/python3.11/dist-packages (from kubernetes>=28.1.0->chromadb) (2.32.3)\n",
            "Requirement already satisfied: requests-oauthlib in /usr/local/lib/python3.11/dist-packages (from kubernetes>=28.1.0->chromadb) (2.0.0)\n",
            "Requirement already satisfied: oauthlib>=3.2.2 in /usr/local/lib/python3.11/dist-packages (from kubernetes>=28.1.0->chromadb) (3.2.2)\n",
            "Requirement already satisfied: urllib3>=1.24.2 in /usr/local/lib/python3.11/dist-packages (from kubernetes>=28.1.0->chromadb) (2.4.0)\n",
            "Requirement already satisfied: durationpy>=0.7 in /usr/local/lib/python3.11/dist-packages (from kubernetes>=28.1.0->chromadb) (0.10)\n",
            "Requirement already satisfied: coloredlogs in /usr/local/lib/python3.11/dist-packages (from onnxruntime>=1.14.1->chromadb) (15.0.1)\n",
            "Requirement already satisfied: flatbuffers in /usr/local/lib/python3.11/dist-packages (from onnxruntime>=1.14.1->chromadb) (25.2.10)\n",
            "Requirement already satisfied: protobuf in /usr/local/lib/python3.11/dist-packages (from onnxruntime>=1.14.1->chromadb) (5.29.5)\n",
            "Requirement already satisfied: sympy in /usr/local/lib/python3.11/dist-packages (from onnxruntime>=1.14.1->chromadb) (1.13.1)\n",
            "Requirement already satisfied: importlib-metadata<8.8.0,>=6.0 in /usr/local/lib/python3.11/dist-packages (from opentelemetry-api>=1.2.0->chromadb) (8.7.0)\n",
            "Requirement already satisfied: googleapis-common-protos~=1.52 in /usr/local/lib/python3.11/dist-packages (from opentelemetry-exporter-otlp-proto-grpc>=1.2.0->chromadb) (1.70.0)\n",
            "Requirement already satisfied: opentelemetry-exporter-otlp-proto-common==1.34.1 in /usr/local/lib/python3.11/dist-packages (from opentelemetry-exporter-otlp-proto-grpc>=1.2.0->chromadb) (1.34.1)\n",
            "Requirement already satisfied: opentelemetry-proto==1.34.1 in /usr/local/lib/python3.11/dist-packages (from opentelemetry-exporter-otlp-proto-grpc>=1.2.0->chromadb) (1.34.1)\n",
            "Requirement already satisfied: opentelemetry-instrumentation-asgi==0.55b1 in /usr/local/lib/python3.11/dist-packages (from opentelemetry-instrumentation-fastapi>=0.41b0->chromadb) (0.55b1)\n",
            "Requirement already satisfied: opentelemetry-instrumentation==0.55b1 in /usr/local/lib/python3.11/dist-packages (from opentelemetry-instrumentation-fastapi>=0.41b0->chromadb) (0.55b1)\n",
            "Requirement already satisfied: opentelemetry-semantic-conventions==0.55b1 in /usr/local/lib/python3.11/dist-packages (from opentelemetry-instrumentation-fastapi>=0.41b0->chromadb) (0.55b1)\n",
            "Requirement already satisfied: opentelemetry-util-http==0.55b1 in /usr/local/lib/python3.11/dist-packages (from opentelemetry-instrumentation-fastapi>=0.41b0->chromadb) (0.55b1)\n",
            "Requirement already satisfied: wrapt<2.0.0,>=1.0.0 in /usr/local/lib/python3.11/dist-packages (from opentelemetry-instrumentation==0.55b1->opentelemetry-instrumentation-fastapi>=0.41b0->chromadb) (1.17.2)\n",
            "Requirement already satisfied: asgiref~=3.0 in /usr/local/lib/python3.11/dist-packages (from opentelemetry-instrumentation-asgi==0.55b1->opentelemetry-instrumentation-fastapi>=0.41b0->chromadb) (3.8.1)\n",
            "Requirement already satisfied: backoff>=1.10.0 in /usr/local/lib/python3.11/dist-packages (from posthog>=2.4.0->chromadb) (2.2.1)\n",
            "Requirement already satisfied: distro>=1.5.0 in /usr/local/lib/python3.11/dist-packages (from posthog>=2.4.0->chromadb) (1.9.0)\n",
            "Requirement already satisfied: annotated-types>=0.6.0 in /usr/local/lib/python3.11/dist-packages (from pydantic>=1.9->chromadb) (0.7.0)\n",
            "Requirement already satisfied: pydantic-core==2.33.2 in /usr/local/lib/python3.11/dist-packages (from pydantic>=1.9->chromadb) (2.33.2)\n",
            "Requirement already satisfied: typing-inspection>=0.4.0 in /usr/local/lib/python3.11/dist-packages (from pydantic>=1.9->chromadb) (0.4.1)\n",
            "Requirement already satisfied: markdown-it-py>=2.2.0 in /usr/local/lib/python3.11/dist-packages (from rich>=10.11.0->chromadb) (3.0.0)\n",
            "Requirement already satisfied: pygments<3.0.0,>=2.13.0 in /usr/local/lib/python3.11/dist-packages (from rich>=10.11.0->chromadb) (2.19.1)\n",
            "Requirement already satisfied: huggingface-hub<1.0,>=0.16.4 in /usr/local/lib/python3.11/dist-packages (from tokenizers>=0.13.2->chromadb) (0.33.0)\n",
            "Requirement already satisfied: click>=8.0.0 in /usr/local/lib/python3.11/dist-packages (from typer>=0.9.0->chromadb) (8.2.1)\n",
            "Requirement already satisfied: shellingham>=1.3.0 in /usr/local/lib/python3.11/dist-packages (from typer>=0.9.0->chromadb) (1.5.4)\n",
            "Requirement already satisfied: httptools>=0.6.3 in /usr/local/lib/python3.11/dist-packages (from uvicorn[standard]>=0.18.3->chromadb) (0.6.4)\n",
            "Requirement already satisfied: python-dotenv>=0.13 in /usr/local/lib/python3.11/dist-packages (from uvicorn[standard]>=0.18.3->chromadb) (1.1.0)\n",
            "Requirement already satisfied: uvloop>=0.15.1 in /usr/local/lib/python3.11/dist-packages (from uvicorn[standard]>=0.18.3->chromadb) (0.21.0)\n",
            "Requirement already satisfied: watchfiles>=0.13 in /usr/local/lib/python3.11/dist-packages (from uvicorn[standard]>=0.18.3->chromadb) (1.1.0)\n",
            "Requirement already satisfied: websockets>=10.4 in /usr/local/lib/python3.11/dist-packages (from uvicorn[standard]>=0.18.3->chromadb) (15.0.1)\n",
            "Requirement already satisfied: cachetools<6.0,>=2.0.0 in /usr/local/lib/python3.11/dist-packages (from google-auth>=1.0.1->kubernetes>=28.1.0->chromadb) (5.5.2)\n",
            "Requirement already satisfied: pyasn1-modules>=0.2.1 in /usr/local/lib/python3.11/dist-packages (from google-auth>=1.0.1->kubernetes>=28.1.0->chromadb) (0.4.2)\n",
            "Requirement already satisfied: rsa<5,>=3.1.4 in /usr/local/lib/python3.11/dist-packages (from google-auth>=1.0.1->kubernetes>=28.1.0->chromadb) (4.9.1)\n",
            "Requirement already satisfied: filelock in /usr/local/lib/python3.11/dist-packages (from huggingface-hub<1.0,>=0.16.4->tokenizers>=0.13.2->chromadb) (3.18.0)\n",
            "Requirement already satisfied: fsspec>=2023.5.0 in /usr/local/lib/python3.11/dist-packages (from huggingface-hub<1.0,>=0.16.4->tokenizers>=0.13.2->chromadb) (2025.3.2)\n",
            "Requirement already satisfied: hf-xet<2.0.0,>=1.1.2 in /usr/local/lib/python3.11/dist-packages (from huggingface-hub<1.0,>=0.16.4->tokenizers>=0.13.2->chromadb) (1.1.3)\n",
            "Requirement already satisfied: zipp>=3.20 in /usr/local/lib/python3.11/dist-packages (from importlib-metadata<8.8.0,>=6.0->opentelemetry-api>=1.2.0->chromadb) (3.23.0)\n",
            "Requirement already satisfied: mdurl~=0.1 in /usr/local/lib/python3.11/dist-packages (from markdown-it-py>=2.2.0->rich>=10.11.0->chromadb) (0.1.2)\n",
            "Requirement already satisfied: charset-normalizer<4,>=2 in /usr/local/lib/python3.11/dist-packages (from requests->kubernetes>=28.1.0->chromadb) (3.4.2)\n",
            "Requirement already satisfied: sniffio>=1.1 in /usr/local/lib/python3.11/dist-packages (from anyio->httpx>=0.27.0->chromadb) (1.3.1)\n",
            "Requirement already satisfied: humanfriendly>=9.1 in /usr/local/lib/python3.11/dist-packages (from coloredlogs->onnxruntime>=1.14.1->chromadb) (10.0)\n",
            "Requirement already satisfied: mpmath<1.4,>=1.1.0 in /usr/local/lib/python3.11/dist-packages (from sympy->onnxruntime>=1.14.1->chromadb) (1.3.0)\n",
            "Requirement already satisfied: pyasn1<0.7.0,>=0.6.1 in /usr/local/lib/python3.11/dist-packages (from pyasn1-modules>=0.2.1->google-auth>=1.0.1->kubernetes>=28.1.0->chromadb) (0.6.1)\n"
          ]
        }
      ],
      "source": [
        "!pip install chromadb\n"
      ]
    },
    {
      "cell_type": "code",
      "execution_count": 20,
      "metadata": {
        "colab": {
          "base_uri": "https://localhost:8080/"
        },
        "id": "id1S2HMi4gg1",
        "outputId": "c8976b07-2c2a-4c6d-ff7a-e39f521585fc"
      },
      "outputs": [
        {
          "output_type": "stream",
          "name": "stdout",
          "text": [
            "Collection ready.\n"
          ]
        }
      ],
      "source": [
        "import chromadb\n",
        "from chromadb.utils import embedding_functions\n",
        "\n",
        "# Create Chroma client\n",
        "client = chromadb.Client()\n",
        "\n",
        "#  Use get_or_create=True to avoid InternalError\n",
        "collection = client.create_collection(\n",
        "    name=\"chapter_versions\",\n",
        "    get_or_create=True\n",
        ")\n",
        "\n",
        "print(\"Collection ready.\")\n",
        "\n",
        "\n",
        "\n"
      ]
    },
    {
      "source": [
        "# Add the final_version to the collection\n",
        "collection.add(\n",
        "    documents=[final_version],  # The text content\n",
        "    metadatas=[{\"version\": version, \"original_filename\": filename}], # Metadata\n",
        "    ids=[\"chapter_1_\" + version]  # Unique ID for the document\n",
        ")\n",
        "\n",
        "print(f\"Document '{'chapter_1_' + version}' added to collection.\")\n",
        "\n",
        "# Semantic search from ChromaDB\n",
        "results = collection.query(\n",
        "    query_texts=[\"fluent modern rewrite of a classic chapter\"],\n",
        "    n_results=1\n",
        ")\n",
        "\n",
        "# Add a check to see if any documents were returned\n",
        "if results and results.get('documents') and results['documents'][0]:\n",
        "    print(\" Top match retrieved:\")\n",
        "    print(\" Document:\\n\", results['documents'][0][0])\n",
        "    print(\" Metadata:\", results['metadatas'][0][0])\n",
        "else:\n",
        "    print(\" No matching documents found for the query.\")"
      ],
      "cell_type": "code",
      "metadata": {
        "colab": {
          "base_uri": "https://localhost:8080/"
        },
        "id": "NF1_myH1bxgy",
        "outputId": "de0a45e8-6ac7-4bfa-ffc7-10d0591d3543"
      },
      "execution_count": 21,
      "outputs": [
        {
          "output_type": "stream",
          "name": "stdout",
          "text": [
            "Document 'chapter_1_v1' added to collection.\n",
            " Top match retrieved:\n",
            " Document:\n",
            " Rewrite the following passage in fluent, modern English:\n",
            "\n",
            "\"The Gates of Morning\"\n",
            "\n",
            "CHAPTER I\n",
            "\n",
            "THE CANOE BUILDER\n",
            "\n",
            "DICK standing on a ledge of coral cast his eyes to the South.\n",
            "\n",
            "Behind him the breakers of the outer sea thundered and the spindrift scattered on the wind; before him stretched an ocean calm as a lake, infinite, blue, and flown about by the fishing gulls—the lagoon of Karolin.\n",
            "\n",
            "Clipped by its forty-mile ring of coral this great pond was a sea in itself, a sea of storm in heavy winds, a lake of azure, in light airs—and it was his—he who had landed here only yesterday.\n",
            "\n",
            "Women, children, youths, all the tribe to be seen busy along the beach in the blazing sun, fishing with nets, playing their games or working on the paraka patches, all were his people. His were the canoes drawn up on the sand and his the empty houses where the war canoes had once rested on their rollers.\n",
            "\n",
            "Then as he cast his eyes from the lagoon to the canoe houses his brow contracted, and, turning his back to the lagoon he stood facing the breakers on the outer beach and the northern sea. Away there,  ​beyond  the sea line, invisible, lay Palm Tree, an island beautiful as a dream, yet swarming with devils.\n",
            "\n",
            "Little Tari the son of Le Taioi the net maker, sitting on the coral close by, looked up at him. Tari knew little of life, but he knew that all the men of Karolin swept away by war had left the women and the boys and the children like himself defenceless and without a man or leader.\n",
            "\n",
            "Then, yesterday, from the northern sea in a strange boat and with Katafa, the girl who had been blown to sea years ago when out fishing, this strange new figure had come, sent by the gods, so the women said, to be their chief and ruler.\n",
            "\n",
            "The child knew nothing of whom the gods might be nor did he care, alone now with this wonderful new person, and out of earshot of his mother, he put the question direct with all the simplicity of childhood.\n",
            "\n",
            "“Taori,” said little Tari, “who are you?” (é kamina tai)\n",
            "\n",
            "Could Dick have answered, would the child have understood the strange words of the strange story Dick might have told him? “Tari, I come of people beyond the world you know. My name is Dick Lestrange, and when I was smaller than you, Tari, I was left alone with an old sailor man on that island you call Marua (Palm Tree), which lies beyond sight fifty miles to the north. There we lived and there I grew to be a boy and Kearney, that was his name, taught me to fish and spear fish, and he made for me things to play with, little ships unlike the canoes of ​the islands. And then, Tari, one day long ago came Katafa, the girl who was blown away from here in a storm. She lived with us till Kearney died and then we two were alone. She taught me her language, which is the language of Karolin. She named me Taori; we loved one another and might have lived for ever at Marua had not a great ship come there filled with bad men, men from the eastern islands of Melanesia. They came to cut the trees. Then they rose and killed the white men with them and burned the ship and in our boat we escaped from them, taking with us everything we loved, even the little ships, and steering for Karolin, we came, led by the lagoon light in the sky.\"\n",
            "\n",
            "But he could not tell Tari this, or at least all of it, for the very name of Dick had passed from his memory, that and the language he had spoken as a child; Kearney, the sailor who had brought him up, was all but forgotten, all but lost sight of in the luminous haze that was his past.\n",
            "\n",
            "The past, for men long shipwrecked and alone, becomes blurred and fogged, for Dick it began only with the coming of Katafa to Marua, behind and beyond that all was forgotten as though consumed in the great blaze of tropic light that bathed the island and the sea, the storms that swept the coconut groves, the mists of the rainy seasons. Kearney would have been quite forgotten but for the little ships he had made as playthings for the boy—who was now a man.\n",
            "\n",
            "​He looked down at the questioning child. “I am Taori, Tari tatu, why do you ask?”\n",
            "\n",
            "“I do not know,” said the child. “I ask as I breathe but no big folk—madyana—will ever answer the questions of Tari— Ai, the fish!” His facile mind had already dropped the subject, attracted by the cries of some children, hauling in a net, and he rose and trotted away.\n",
            "\n",
            "Dick turned his gaze again to the north. The question of the child had stirred his mind and he saw again the schooner that had put in to Palm Tree only to be burned by the Melanesian hands, he saw again Katafa and himself as they made their escape in the old dinghy that Kearney had taught him to handle as a boy. He saw their landing on this beach, yesterday, and the women and children swarming round him, he the man whom they considered sent by the gods to be their chief and leader.\n",
            "\n",
            "Then as he gazed towards the north the memory of the men from whom he had escaped with the girl stained the beauty of sea and sky.\n",
            "\n",
            "There was no immediate fear of the men who had taken possession of Palm Tree; the men of Palm Tree had no canoes, but they would build canoes—surely they would build canoes, and as surely they would see the far mirror blaze of Karolin lagoon in the sky, just as he had seen it, and they would come. It might be a very long time yet, but they would come.\n",
            "\n",
            "Dick was an all but blook, a kanaka, a savage, ​and yet the white man was there. He could think forward, he could think round a subject and he could imagine.\n",
            "\n",
            "That was why he had sent a canoe that morning across to the southern beach to fetch Aioma, Palia and Tafata, three old men, too old for war, but expert canoe-builders, that was why when gazing at the tribe in full congregation, his eyes had brightened to the fact that nearly a hundred of the youths were ripening to war age, but under all, lighting and animating his mind, raising daring to eagle heights, lay his passion for Katafa, his other self more dear to him than self, threatened, ever so vaguely, yet still threatened.\n",
            "\n",
            "War canoes! Did he intend fighting any invaders in the lagoon or as they drew towards shore, or did he vaguely intend to be the attacker, destroying the danger at its source before it could develop? Who knows?\n",
            "\n",
            "A hand fell upon his shoulder and turning, he found himself face to face with Katafa, a lock of her dark hair escaped from the thread of elastic vine that bound it, blew right back on the breeze like an eagle’s feather, and her eyes, luminous and dark instead of meeting his, were fixed towards the point where he had been gazing—the due-north sea line.\n",
            "\n",
            "“Look!” said Katafa.\n",
            "\n",
            "At big intervals and in certain conditions of weather Palm Tree, though far behind the sea line, ​became visible from Karolin through mirage. Last evening they had seen it and now again it was beginning to live, to bloom, to come to life, a mysterious stain low down in the southern sky, a dull spot in the sea dazzle, that deepened by degrees and hardened till as if sketched in by some unseen painter, the island showed beautiful as a dream, diaphanous, yet vivid.\n",
            "\n",
            "With her hand upon his shoulder they stood without speaking, their minds untutored, knowing nothing of mirage, their eyes fixed on the place from which they had escaped and which was rising now so strangely beyond the far sea line as if to gaze at them.\n",
            "\n",
            "They saw again the horde of savages on the beach, figures monstrous as the forms in a nightmare, they felt again the wind that filled the sail as the dinghy raced for safety and the open sea, and again they heard the yells of the Melanesians mad with rum stolen from the schooner they had brought in, and which they had burnt. And there, there before them lay the scene of the Tragedy, that lovely picture which showed nothing of the demons that still in habited it.\n",
            "\n",
            "Then as Dick gazed on this loveliness, which was yet a threat and a warning, his nostrils expanded and his eyes grew dark with hate. They had threatened him—that was nothing, they had threatened Katafa, that was everything—and they still threatened her.\n",
            "\n",
            "Some day they would come. The vision of Palm ​Tree seemed to repeat what instinct told him. They would build canoes and seeing the lagoon mirror-light in the sky, they would come. They had no women, those men, and here were women, and instinct half whispered to him that just as he had been drawn to Katafa, so would these men be drawn to the women of Karolin. They would scan the horizon in search of some island whose tribe might be raided of its women and seeing the lagoon light they would come.\n",
            "\n",
            "Ah, if he had known, danger lay not only to the north, but wherever greed or desire or hatred might roam on that azure sea, not only amongst savages, but the wolves of civilization.\n",
            "\n",
            "To Dick there was no world beyond the world of water that ringed the two islands; no Europe, no America, no history but the history of his short life as the life of Katafa, and yet even in that life, short as it was, he had learned to dread men and he had envisaged the foundation of all history—man’s instinct for war, rapine and destruction.\n",
            "\n",
            "Then gradually the vision of Palm Tree began to fade and pass, suddenly it vanished like a light blown out and as they turned from the sea to the lagoon, Katafa pointed across the lagoon water to a canoe approaching from the southern beach.\n",
            "\n",
            "It was the canoe Dick has sent for the canoe builders and, leaving the coral, they came down to the white sand of the inner beach to meet it.\n",
            "\n",
            "Layout 2 child. “I was in the boat with you yesterday and I saw you, Taori, and I followed you and then I saw the boat and I saw you, Taori.”\n",
            "\n",
            "“You have seen me,” said Dick, “and that is all you know of me. You were with me on that boat and I was with you on that boat.”\n",
            "\n",
            "The child looked from one to the other, and, for the first time, Dick saw his own face. It was the face of a child, still the face of a boy, but there was something in it, for it was not that of a man, as he had been in childhood, and it was not the face of a great warrior, as his father had been, but that of a boy, the face of a child.\n",
            "\n",
            "“Taori,” said Dick, “tell me, I am Taori and I am Dick, a man.”\n",
            "\n",
            "“I can tell you nothing,” said the child. “I was not with you yesterday.”\n",
            "\n",
            "Then Dick understood, and at the same time he knew that the child knew nothing of him, and he knew\n",
            "\n",
            "[Editor Note]: thank u\n",
            " Metadata: {'original_filename': 'chapter_1_raw (7).txt', 'version': 'v1'}\n"
          ]
        }
      ]
    }
  ],
  "metadata": {
    "colab": {
      "provenance": []
    },
    "kernelspec": {
      "display_name": "Python 3",
      "name": "python3"
    },
    "language_info": {
      "name": "python"
    }
  },
  "nbformat": 4,
  "nbformat_minor": 0
}
